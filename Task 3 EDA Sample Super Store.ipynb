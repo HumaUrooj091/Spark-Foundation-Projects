{
 "cells": [
  {
   "cell_type": "markdown",
   "id": "afb1a157",
   "metadata": {},
   "source": [
    "# Task 3\n",
    "\n",
    "## Exploratory Data Analysis - Retail \n",
    "\n",
    "#### Perform Exploratory data analysis on dataset \"Sample Store\"\n",
    "#### As business manager, try to find out the weak areas where you can work to make more profit.\n",
    "#### what all business problems you can derive by exploring the data?\n"
   ]
  },
  {
   "cell_type": "code",
   "execution_count": 1,
   "id": "07fa7b07",
   "metadata": {},
   "outputs": [],
   "source": [
    "import pandas as pd\n",
    "import numpy as np\n",
    "import seaborn as sns\n",
    "import matplotlib.pyplot as plt\n",
    "import plotly.express as px\n",
    "\n"
   ]
  },
  {
   "cell_type": "markdown",
   "id": "99422f2f",
   "metadata": {},
   "source": [
    "### import the data"
   ]
  },
  {
   "cell_type": "code",
   "execution_count": 2,
   "id": "56afb7d0",
   "metadata": {},
   "outputs": [],
   "source": [
    "store = pd.read_csv(\"SampleSuperstore.csv\")"
   ]
  },
  {
   "cell_type": "code",
   "execution_count": 3,
   "id": "514292ba",
   "metadata": {},
   "outputs": [
    {
     "data": {
      "text/html": [
       "<div>\n",
       "<style scoped>\n",
       "    .dataframe tbody tr th:only-of-type {\n",
       "        vertical-align: middle;\n",
       "    }\n",
       "\n",
       "    .dataframe tbody tr th {\n",
       "        vertical-align: top;\n",
       "    }\n",
       "\n",
       "    .dataframe thead th {\n",
       "        text-align: right;\n",
       "    }\n",
       "</style>\n",
       "<table border=\"1\" class=\"dataframe\">\n",
       "  <thead>\n",
       "    <tr style=\"text-align: right;\">\n",
       "      <th></th>\n",
       "      <th>Ship Mode</th>\n",
       "      <th>Segment</th>\n",
       "      <th>Country</th>\n",
       "      <th>City</th>\n",
       "      <th>State</th>\n",
       "      <th>Postal Code</th>\n",
       "      <th>Region</th>\n",
       "      <th>Category</th>\n",
       "      <th>Sub-Category</th>\n",
       "      <th>Sales</th>\n",
       "      <th>Quantity</th>\n",
       "      <th>Discount</th>\n",
       "      <th>Profit</th>\n",
       "    </tr>\n",
       "  </thead>\n",
       "  <tbody>\n",
       "    <tr>\n",
       "      <th>0</th>\n",
       "      <td>Second Class</td>\n",
       "      <td>Consumer</td>\n",
       "      <td>United States</td>\n",
       "      <td>Henderson</td>\n",
       "      <td>Kentucky</td>\n",
       "      <td>42420</td>\n",
       "      <td>South</td>\n",
       "      <td>Furniture</td>\n",
       "      <td>Bookcases</td>\n",
       "      <td>261.9600</td>\n",
       "      <td>2</td>\n",
       "      <td>0.00</td>\n",
       "      <td>41.9136</td>\n",
       "    </tr>\n",
       "    <tr>\n",
       "      <th>1</th>\n",
       "      <td>Second Class</td>\n",
       "      <td>Consumer</td>\n",
       "      <td>United States</td>\n",
       "      <td>Henderson</td>\n",
       "      <td>Kentucky</td>\n",
       "      <td>42420</td>\n",
       "      <td>South</td>\n",
       "      <td>Furniture</td>\n",
       "      <td>Chairs</td>\n",
       "      <td>731.9400</td>\n",
       "      <td>3</td>\n",
       "      <td>0.00</td>\n",
       "      <td>219.5820</td>\n",
       "    </tr>\n",
       "    <tr>\n",
       "      <th>2</th>\n",
       "      <td>Second Class</td>\n",
       "      <td>Corporate</td>\n",
       "      <td>United States</td>\n",
       "      <td>Los Angeles</td>\n",
       "      <td>California</td>\n",
       "      <td>90036</td>\n",
       "      <td>West</td>\n",
       "      <td>Office Supplies</td>\n",
       "      <td>Labels</td>\n",
       "      <td>14.6200</td>\n",
       "      <td>2</td>\n",
       "      <td>0.00</td>\n",
       "      <td>6.8714</td>\n",
       "    </tr>\n",
       "    <tr>\n",
       "      <th>3</th>\n",
       "      <td>Standard Class</td>\n",
       "      <td>Consumer</td>\n",
       "      <td>United States</td>\n",
       "      <td>Fort Lauderdale</td>\n",
       "      <td>Florida</td>\n",
       "      <td>33311</td>\n",
       "      <td>South</td>\n",
       "      <td>Furniture</td>\n",
       "      <td>Tables</td>\n",
       "      <td>957.5775</td>\n",
       "      <td>5</td>\n",
       "      <td>0.45</td>\n",
       "      <td>-383.0310</td>\n",
       "    </tr>\n",
       "    <tr>\n",
       "      <th>4</th>\n",
       "      <td>Standard Class</td>\n",
       "      <td>Consumer</td>\n",
       "      <td>United States</td>\n",
       "      <td>Fort Lauderdale</td>\n",
       "      <td>Florida</td>\n",
       "      <td>33311</td>\n",
       "      <td>South</td>\n",
       "      <td>Office Supplies</td>\n",
       "      <td>Storage</td>\n",
       "      <td>22.3680</td>\n",
       "      <td>2</td>\n",
       "      <td>0.20</td>\n",
       "      <td>2.5164</td>\n",
       "    </tr>\n",
       "    <tr>\n",
       "      <th>...</th>\n",
       "      <td>...</td>\n",
       "      <td>...</td>\n",
       "      <td>...</td>\n",
       "      <td>...</td>\n",
       "      <td>...</td>\n",
       "      <td>...</td>\n",
       "      <td>...</td>\n",
       "      <td>...</td>\n",
       "      <td>...</td>\n",
       "      <td>...</td>\n",
       "      <td>...</td>\n",
       "      <td>...</td>\n",
       "      <td>...</td>\n",
       "    </tr>\n",
       "    <tr>\n",
       "      <th>9989</th>\n",
       "      <td>Second Class</td>\n",
       "      <td>Consumer</td>\n",
       "      <td>United States</td>\n",
       "      <td>Miami</td>\n",
       "      <td>Florida</td>\n",
       "      <td>33180</td>\n",
       "      <td>South</td>\n",
       "      <td>Furniture</td>\n",
       "      <td>Furnishings</td>\n",
       "      <td>25.2480</td>\n",
       "      <td>3</td>\n",
       "      <td>0.20</td>\n",
       "      <td>4.1028</td>\n",
       "    </tr>\n",
       "    <tr>\n",
       "      <th>9990</th>\n",
       "      <td>Standard Class</td>\n",
       "      <td>Consumer</td>\n",
       "      <td>United States</td>\n",
       "      <td>Costa Mesa</td>\n",
       "      <td>California</td>\n",
       "      <td>92627</td>\n",
       "      <td>West</td>\n",
       "      <td>Furniture</td>\n",
       "      <td>Furnishings</td>\n",
       "      <td>91.9600</td>\n",
       "      <td>2</td>\n",
       "      <td>0.00</td>\n",
       "      <td>15.6332</td>\n",
       "    </tr>\n",
       "    <tr>\n",
       "      <th>9991</th>\n",
       "      <td>Standard Class</td>\n",
       "      <td>Consumer</td>\n",
       "      <td>United States</td>\n",
       "      <td>Costa Mesa</td>\n",
       "      <td>California</td>\n",
       "      <td>92627</td>\n",
       "      <td>West</td>\n",
       "      <td>Technology</td>\n",
       "      <td>Phones</td>\n",
       "      <td>258.5760</td>\n",
       "      <td>2</td>\n",
       "      <td>0.20</td>\n",
       "      <td>19.3932</td>\n",
       "    </tr>\n",
       "    <tr>\n",
       "      <th>9992</th>\n",
       "      <td>Standard Class</td>\n",
       "      <td>Consumer</td>\n",
       "      <td>United States</td>\n",
       "      <td>Costa Mesa</td>\n",
       "      <td>California</td>\n",
       "      <td>92627</td>\n",
       "      <td>West</td>\n",
       "      <td>Office Supplies</td>\n",
       "      <td>Paper</td>\n",
       "      <td>29.6000</td>\n",
       "      <td>4</td>\n",
       "      <td>0.00</td>\n",
       "      <td>13.3200</td>\n",
       "    </tr>\n",
       "    <tr>\n",
       "      <th>9993</th>\n",
       "      <td>Second Class</td>\n",
       "      <td>Consumer</td>\n",
       "      <td>United States</td>\n",
       "      <td>Westminster</td>\n",
       "      <td>California</td>\n",
       "      <td>92683</td>\n",
       "      <td>West</td>\n",
       "      <td>Office Supplies</td>\n",
       "      <td>Appliances</td>\n",
       "      <td>243.1600</td>\n",
       "      <td>2</td>\n",
       "      <td>0.00</td>\n",
       "      <td>72.9480</td>\n",
       "    </tr>\n",
       "  </tbody>\n",
       "</table>\n",
       "<p>9994 rows × 13 columns</p>\n",
       "</div>"
      ],
      "text/plain": [
       "           Ship Mode    Segment        Country             City       State  \\\n",
       "0       Second Class   Consumer  United States        Henderson    Kentucky   \n",
       "1       Second Class   Consumer  United States        Henderson    Kentucky   \n",
       "2       Second Class  Corporate  United States      Los Angeles  California   \n",
       "3     Standard Class   Consumer  United States  Fort Lauderdale     Florida   \n",
       "4     Standard Class   Consumer  United States  Fort Lauderdale     Florida   \n",
       "...              ...        ...            ...              ...         ...   \n",
       "9989    Second Class   Consumer  United States            Miami     Florida   \n",
       "9990  Standard Class   Consumer  United States       Costa Mesa  California   \n",
       "9991  Standard Class   Consumer  United States       Costa Mesa  California   \n",
       "9992  Standard Class   Consumer  United States       Costa Mesa  California   \n",
       "9993    Second Class   Consumer  United States      Westminster  California   \n",
       "\n",
       "      Postal Code Region         Category Sub-Category     Sales  Quantity  \\\n",
       "0           42420  South        Furniture    Bookcases  261.9600         2   \n",
       "1           42420  South        Furniture       Chairs  731.9400         3   \n",
       "2           90036   West  Office Supplies       Labels   14.6200         2   \n",
       "3           33311  South        Furniture       Tables  957.5775         5   \n",
       "4           33311  South  Office Supplies      Storage   22.3680         2   \n",
       "...           ...    ...              ...          ...       ...       ...   \n",
       "9989        33180  South        Furniture  Furnishings   25.2480         3   \n",
       "9990        92627   West        Furniture  Furnishings   91.9600         2   \n",
       "9991        92627   West       Technology       Phones  258.5760         2   \n",
       "9992        92627   West  Office Supplies        Paper   29.6000         4   \n",
       "9993        92683   West  Office Supplies   Appliances  243.1600         2   \n",
       "\n",
       "      Discount    Profit  \n",
       "0         0.00   41.9136  \n",
       "1         0.00  219.5820  \n",
       "2         0.00    6.8714  \n",
       "3         0.45 -383.0310  \n",
       "4         0.20    2.5164  \n",
       "...        ...       ...  \n",
       "9989      0.20    4.1028  \n",
       "9990      0.00   15.6332  \n",
       "9991      0.20   19.3932  \n",
       "9992      0.00   13.3200  \n",
       "9993      0.00   72.9480  \n",
       "\n",
       "[9994 rows x 13 columns]"
      ]
     },
     "execution_count": 3,
     "metadata": {},
     "output_type": "execute_result"
    }
   ],
   "source": [
    "store"
   ]
  },
  {
   "cell_type": "code",
   "execution_count": 4,
   "id": "732241b0",
   "metadata": {},
   "outputs": [
    {
     "data": {
      "text/plain": [
       "(9994, 13)"
      ]
     },
     "execution_count": 4,
     "metadata": {},
     "output_type": "execute_result"
    }
   ],
   "source": [
    "store.shape"
   ]
  },
  {
   "cell_type": "code",
   "execution_count": 5,
   "id": "9edb9ddc",
   "metadata": {},
   "outputs": [
    {
     "data": {
      "text/plain": [
       "array(['Kentucky', 'California', 'Florida', 'North Carolina',\n",
       "       'Washington', 'Texas', 'Wisconsin', 'Utah', 'Nebraska',\n",
       "       'Pennsylvania', 'Illinois', 'Minnesota', 'Michigan', 'Delaware',\n",
       "       'Indiana', 'New York', 'Arizona', 'Virginia', 'Tennessee',\n",
       "       'Alabama', 'South Carolina', 'Oregon', 'Colorado', 'Iowa', 'Ohio',\n",
       "       'Missouri', 'Oklahoma', 'New Mexico', 'Louisiana', 'Connecticut',\n",
       "       'New Jersey', 'Massachusetts', 'Georgia', 'Nevada', 'Rhode Island',\n",
       "       'Mississippi', 'Arkansas', 'Montana', 'New Hampshire', 'Maryland',\n",
       "       'District of Columbia', 'Kansas', 'Vermont', 'Maine',\n",
       "       'South Dakota', 'Idaho', 'North Dakota', 'Wyoming',\n",
       "       'West Virginia'], dtype=object)"
      ]
     },
     "execution_count": 5,
     "metadata": {},
     "output_type": "execute_result"
    }
   ],
   "source": [
    "store.State.unique()"
   ]
  },
  {
   "cell_type": "markdown",
   "id": "ccdf20f8",
   "metadata": {},
   "source": [
    "### Analyse the data"
   ]
  },
  {
   "cell_type": "code",
   "execution_count": 5,
   "id": "ca7c267f",
   "metadata": {},
   "outputs": [
    {
     "name": "stdout",
     "output_type": "stream",
     "text": [
      "<class 'pandas.core.frame.DataFrame'>\n",
      "RangeIndex: 9994 entries, 0 to 9993\n",
      "Data columns (total 13 columns):\n",
      " #   Column        Non-Null Count  Dtype  \n",
      "---  ------        --------------  -----  \n",
      " 0   Ship Mode     9994 non-null   object \n",
      " 1   Segment       9994 non-null   object \n",
      " 2   Country       9994 non-null   object \n",
      " 3   City          9994 non-null   object \n",
      " 4   State         9994 non-null   object \n",
      " 5   Postal Code   9994 non-null   int64  \n",
      " 6   Region        9994 non-null   object \n",
      " 7   Category      9994 non-null   object \n",
      " 8   Sub-Category  9994 non-null   object \n",
      " 9   Sales         9994 non-null   float64\n",
      " 10  Quantity      9994 non-null   int64  \n",
      " 11  Discount      9994 non-null   float64\n",
      " 12  Profit        9994 non-null   float64\n",
      "dtypes: float64(3), int64(2), object(8)\n",
      "memory usage: 1015.1+ KB\n"
     ]
    }
   ],
   "source": [
    "store.info()"
   ]
  },
  {
   "cell_type": "code",
   "execution_count": 6,
   "id": "817386e9",
   "metadata": {},
   "outputs": [
    {
     "data": {
      "text/html": [
       "<div>\n",
       "<style scoped>\n",
       "    .dataframe tbody tr th:only-of-type {\n",
       "        vertical-align: middle;\n",
       "    }\n",
       "\n",
       "    .dataframe tbody tr th {\n",
       "        vertical-align: top;\n",
       "    }\n",
       "\n",
       "    .dataframe thead th {\n",
       "        text-align: right;\n",
       "    }\n",
       "</style>\n",
       "<table border=\"1\" class=\"dataframe\">\n",
       "  <thead>\n",
       "    <tr style=\"text-align: right;\">\n",
       "      <th></th>\n",
       "      <th>Ship Mode</th>\n",
       "      <th>Segment</th>\n",
       "      <th>Country</th>\n",
       "      <th>City</th>\n",
       "      <th>State</th>\n",
       "      <th>Postal Code</th>\n",
       "      <th>Region</th>\n",
       "      <th>Category</th>\n",
       "      <th>Sub-Category</th>\n",
       "      <th>Sales</th>\n",
       "      <th>Quantity</th>\n",
       "      <th>Discount</th>\n",
       "      <th>Profit</th>\n",
       "    </tr>\n",
       "  </thead>\n",
       "  <tbody>\n",
       "    <tr>\n",
       "      <th>0</th>\n",
       "      <td>Second Class</td>\n",
       "      <td>Consumer</td>\n",
       "      <td>United States</td>\n",
       "      <td>Henderson</td>\n",
       "      <td>Kentucky</td>\n",
       "      <td>42420</td>\n",
       "      <td>South</td>\n",
       "      <td>Furniture</td>\n",
       "      <td>Bookcases</td>\n",
       "      <td>261.9600</td>\n",
       "      <td>2</td>\n",
       "      <td>0.00</td>\n",
       "      <td>41.9136</td>\n",
       "    </tr>\n",
       "    <tr>\n",
       "      <th>1</th>\n",
       "      <td>Second Class</td>\n",
       "      <td>Consumer</td>\n",
       "      <td>United States</td>\n",
       "      <td>Henderson</td>\n",
       "      <td>Kentucky</td>\n",
       "      <td>42420</td>\n",
       "      <td>South</td>\n",
       "      <td>Furniture</td>\n",
       "      <td>Chairs</td>\n",
       "      <td>731.9400</td>\n",
       "      <td>3</td>\n",
       "      <td>0.00</td>\n",
       "      <td>219.5820</td>\n",
       "    </tr>\n",
       "    <tr>\n",
       "      <th>2</th>\n",
       "      <td>Second Class</td>\n",
       "      <td>Corporate</td>\n",
       "      <td>United States</td>\n",
       "      <td>Los Angeles</td>\n",
       "      <td>California</td>\n",
       "      <td>90036</td>\n",
       "      <td>West</td>\n",
       "      <td>Office Supplies</td>\n",
       "      <td>Labels</td>\n",
       "      <td>14.6200</td>\n",
       "      <td>2</td>\n",
       "      <td>0.00</td>\n",
       "      <td>6.8714</td>\n",
       "    </tr>\n",
       "    <tr>\n",
       "      <th>3</th>\n",
       "      <td>Standard Class</td>\n",
       "      <td>Consumer</td>\n",
       "      <td>United States</td>\n",
       "      <td>Fort Lauderdale</td>\n",
       "      <td>Florida</td>\n",
       "      <td>33311</td>\n",
       "      <td>South</td>\n",
       "      <td>Furniture</td>\n",
       "      <td>Tables</td>\n",
       "      <td>957.5775</td>\n",
       "      <td>5</td>\n",
       "      <td>0.45</td>\n",
       "      <td>-383.0310</td>\n",
       "    </tr>\n",
       "    <tr>\n",
       "      <th>4</th>\n",
       "      <td>Standard Class</td>\n",
       "      <td>Consumer</td>\n",
       "      <td>United States</td>\n",
       "      <td>Fort Lauderdale</td>\n",
       "      <td>Florida</td>\n",
       "      <td>33311</td>\n",
       "      <td>South</td>\n",
       "      <td>Office Supplies</td>\n",
       "      <td>Storage</td>\n",
       "      <td>22.3680</td>\n",
       "      <td>2</td>\n",
       "      <td>0.20</td>\n",
       "      <td>2.5164</td>\n",
       "    </tr>\n",
       "  </tbody>\n",
       "</table>\n",
       "</div>"
      ],
      "text/plain": [
       "        Ship Mode    Segment        Country             City       State  \\\n",
       "0    Second Class   Consumer  United States        Henderson    Kentucky   \n",
       "1    Second Class   Consumer  United States        Henderson    Kentucky   \n",
       "2    Second Class  Corporate  United States      Los Angeles  California   \n",
       "3  Standard Class   Consumer  United States  Fort Lauderdale     Florida   \n",
       "4  Standard Class   Consumer  United States  Fort Lauderdale     Florida   \n",
       "\n",
       "   Postal Code Region         Category Sub-Category     Sales  Quantity  \\\n",
       "0        42420  South        Furniture    Bookcases  261.9600         2   \n",
       "1        42420  South        Furniture       Chairs  731.9400         3   \n",
       "2        90036   West  Office Supplies       Labels   14.6200         2   \n",
       "3        33311  South        Furniture       Tables  957.5775         5   \n",
       "4        33311  South  Office Supplies      Storage   22.3680         2   \n",
       "\n",
       "   Discount    Profit  \n",
       "0      0.00   41.9136  \n",
       "1      0.00  219.5820  \n",
       "2      0.00    6.8714  \n",
       "3      0.45 -383.0310  \n",
       "4      0.20    2.5164  "
      ]
     },
     "execution_count": 6,
     "metadata": {},
     "output_type": "execute_result"
    }
   ],
   "source": [
    "store.head()"
   ]
  },
  {
   "cell_type": "code",
   "execution_count": 7,
   "id": "ac5feab8",
   "metadata": {},
   "outputs": [
    {
     "data": {
      "text/html": [
       "<div>\n",
       "<style scoped>\n",
       "    .dataframe tbody tr th:only-of-type {\n",
       "        vertical-align: middle;\n",
       "    }\n",
       "\n",
       "    .dataframe tbody tr th {\n",
       "        vertical-align: top;\n",
       "    }\n",
       "\n",
       "    .dataframe thead th {\n",
       "        text-align: right;\n",
       "    }\n",
       "</style>\n",
       "<table border=\"1\" class=\"dataframe\">\n",
       "  <thead>\n",
       "    <tr style=\"text-align: right;\">\n",
       "      <th></th>\n",
       "      <th>Ship Mode</th>\n",
       "      <th>Segment</th>\n",
       "      <th>Country</th>\n",
       "      <th>City</th>\n",
       "      <th>State</th>\n",
       "      <th>Postal Code</th>\n",
       "      <th>Region</th>\n",
       "      <th>Category</th>\n",
       "      <th>Sub-Category</th>\n",
       "      <th>Sales</th>\n",
       "      <th>Quantity</th>\n",
       "      <th>Discount</th>\n",
       "      <th>Profit</th>\n",
       "    </tr>\n",
       "  </thead>\n",
       "  <tbody>\n",
       "    <tr>\n",
       "      <th>9989</th>\n",
       "      <td>Second Class</td>\n",
       "      <td>Consumer</td>\n",
       "      <td>United States</td>\n",
       "      <td>Miami</td>\n",
       "      <td>Florida</td>\n",
       "      <td>33180</td>\n",
       "      <td>South</td>\n",
       "      <td>Furniture</td>\n",
       "      <td>Furnishings</td>\n",
       "      <td>25.248</td>\n",
       "      <td>3</td>\n",
       "      <td>0.2</td>\n",
       "      <td>4.1028</td>\n",
       "    </tr>\n",
       "    <tr>\n",
       "      <th>9990</th>\n",
       "      <td>Standard Class</td>\n",
       "      <td>Consumer</td>\n",
       "      <td>United States</td>\n",
       "      <td>Costa Mesa</td>\n",
       "      <td>California</td>\n",
       "      <td>92627</td>\n",
       "      <td>West</td>\n",
       "      <td>Furniture</td>\n",
       "      <td>Furnishings</td>\n",
       "      <td>91.960</td>\n",
       "      <td>2</td>\n",
       "      <td>0.0</td>\n",
       "      <td>15.6332</td>\n",
       "    </tr>\n",
       "    <tr>\n",
       "      <th>9991</th>\n",
       "      <td>Standard Class</td>\n",
       "      <td>Consumer</td>\n",
       "      <td>United States</td>\n",
       "      <td>Costa Mesa</td>\n",
       "      <td>California</td>\n",
       "      <td>92627</td>\n",
       "      <td>West</td>\n",
       "      <td>Technology</td>\n",
       "      <td>Phones</td>\n",
       "      <td>258.576</td>\n",
       "      <td>2</td>\n",
       "      <td>0.2</td>\n",
       "      <td>19.3932</td>\n",
       "    </tr>\n",
       "    <tr>\n",
       "      <th>9992</th>\n",
       "      <td>Standard Class</td>\n",
       "      <td>Consumer</td>\n",
       "      <td>United States</td>\n",
       "      <td>Costa Mesa</td>\n",
       "      <td>California</td>\n",
       "      <td>92627</td>\n",
       "      <td>West</td>\n",
       "      <td>Office Supplies</td>\n",
       "      <td>Paper</td>\n",
       "      <td>29.600</td>\n",
       "      <td>4</td>\n",
       "      <td>0.0</td>\n",
       "      <td>13.3200</td>\n",
       "    </tr>\n",
       "    <tr>\n",
       "      <th>9993</th>\n",
       "      <td>Second Class</td>\n",
       "      <td>Consumer</td>\n",
       "      <td>United States</td>\n",
       "      <td>Westminster</td>\n",
       "      <td>California</td>\n",
       "      <td>92683</td>\n",
       "      <td>West</td>\n",
       "      <td>Office Supplies</td>\n",
       "      <td>Appliances</td>\n",
       "      <td>243.160</td>\n",
       "      <td>2</td>\n",
       "      <td>0.0</td>\n",
       "      <td>72.9480</td>\n",
       "    </tr>\n",
       "  </tbody>\n",
       "</table>\n",
       "</div>"
      ],
      "text/plain": [
       "           Ship Mode   Segment        Country         City       State  \\\n",
       "9989    Second Class  Consumer  United States        Miami     Florida   \n",
       "9990  Standard Class  Consumer  United States   Costa Mesa  California   \n",
       "9991  Standard Class  Consumer  United States   Costa Mesa  California   \n",
       "9992  Standard Class  Consumer  United States   Costa Mesa  California   \n",
       "9993    Second Class  Consumer  United States  Westminster  California   \n",
       "\n",
       "      Postal Code Region         Category Sub-Category    Sales  Quantity  \\\n",
       "9989        33180  South        Furniture  Furnishings   25.248         3   \n",
       "9990        92627   West        Furniture  Furnishings   91.960         2   \n",
       "9991        92627   West       Technology       Phones  258.576         2   \n",
       "9992        92627   West  Office Supplies        Paper   29.600         4   \n",
       "9993        92683   West  Office Supplies   Appliances  243.160         2   \n",
       "\n",
       "      Discount   Profit  \n",
       "9989       0.2   4.1028  \n",
       "9990       0.0  15.6332  \n",
       "9991       0.2  19.3932  \n",
       "9992       0.0  13.3200  \n",
       "9993       0.0  72.9480  "
      ]
     },
     "execution_count": 7,
     "metadata": {},
     "output_type": "execute_result"
    }
   ],
   "source": [
    "store.tail()"
   ]
  },
  {
   "cell_type": "code",
   "execution_count": 8,
   "id": "3ac7ac9e",
   "metadata": {},
   "outputs": [
    {
     "data": {
      "text/html": [
       "<div>\n",
       "<style scoped>\n",
       "    .dataframe tbody tr th:only-of-type {\n",
       "        vertical-align: middle;\n",
       "    }\n",
       "\n",
       "    .dataframe tbody tr th {\n",
       "        vertical-align: top;\n",
       "    }\n",
       "\n",
       "    .dataframe thead th {\n",
       "        text-align: right;\n",
       "    }\n",
       "</style>\n",
       "<table border=\"1\" class=\"dataframe\">\n",
       "  <thead>\n",
       "    <tr style=\"text-align: right;\">\n",
       "      <th></th>\n",
       "      <th>Postal Code</th>\n",
       "      <th>Sales</th>\n",
       "      <th>Quantity</th>\n",
       "      <th>Discount</th>\n",
       "      <th>Profit</th>\n",
       "    </tr>\n",
       "  </thead>\n",
       "  <tbody>\n",
       "    <tr>\n",
       "      <th>count</th>\n",
       "      <td>9994.000000</td>\n",
       "      <td>9994.000000</td>\n",
       "      <td>9994.000000</td>\n",
       "      <td>9994.000000</td>\n",
       "      <td>9994.000000</td>\n",
       "    </tr>\n",
       "    <tr>\n",
       "      <th>mean</th>\n",
       "      <td>55190.379428</td>\n",
       "      <td>229.858001</td>\n",
       "      <td>3.789574</td>\n",
       "      <td>0.156203</td>\n",
       "      <td>28.656896</td>\n",
       "    </tr>\n",
       "    <tr>\n",
       "      <th>std</th>\n",
       "      <td>32063.693350</td>\n",
       "      <td>623.245101</td>\n",
       "      <td>2.225110</td>\n",
       "      <td>0.206452</td>\n",
       "      <td>234.260108</td>\n",
       "    </tr>\n",
       "    <tr>\n",
       "      <th>min</th>\n",
       "      <td>1040.000000</td>\n",
       "      <td>0.444000</td>\n",
       "      <td>1.000000</td>\n",
       "      <td>0.000000</td>\n",
       "      <td>-6599.978000</td>\n",
       "    </tr>\n",
       "    <tr>\n",
       "      <th>25%</th>\n",
       "      <td>23223.000000</td>\n",
       "      <td>17.280000</td>\n",
       "      <td>2.000000</td>\n",
       "      <td>0.000000</td>\n",
       "      <td>1.728750</td>\n",
       "    </tr>\n",
       "    <tr>\n",
       "      <th>50%</th>\n",
       "      <td>56430.500000</td>\n",
       "      <td>54.490000</td>\n",
       "      <td>3.000000</td>\n",
       "      <td>0.200000</td>\n",
       "      <td>8.666500</td>\n",
       "    </tr>\n",
       "    <tr>\n",
       "      <th>75%</th>\n",
       "      <td>90008.000000</td>\n",
       "      <td>209.940000</td>\n",
       "      <td>5.000000</td>\n",
       "      <td>0.200000</td>\n",
       "      <td>29.364000</td>\n",
       "    </tr>\n",
       "    <tr>\n",
       "      <th>max</th>\n",
       "      <td>99301.000000</td>\n",
       "      <td>22638.480000</td>\n",
       "      <td>14.000000</td>\n",
       "      <td>0.800000</td>\n",
       "      <td>8399.976000</td>\n",
       "    </tr>\n",
       "  </tbody>\n",
       "</table>\n",
       "</div>"
      ],
      "text/plain": [
       "        Postal Code         Sales     Quantity     Discount       Profit\n",
       "count   9994.000000   9994.000000  9994.000000  9994.000000  9994.000000\n",
       "mean   55190.379428    229.858001     3.789574     0.156203    28.656896\n",
       "std    32063.693350    623.245101     2.225110     0.206452   234.260108\n",
       "min     1040.000000      0.444000     1.000000     0.000000 -6599.978000\n",
       "25%    23223.000000     17.280000     2.000000     0.000000     1.728750\n",
       "50%    56430.500000     54.490000     3.000000     0.200000     8.666500\n",
       "75%    90008.000000    209.940000     5.000000     0.200000    29.364000\n",
       "max    99301.000000  22638.480000    14.000000     0.800000  8399.976000"
      ]
     },
     "execution_count": 8,
     "metadata": {},
     "output_type": "execute_result"
    }
   ],
   "source": [
    "store.describe()"
   ]
  },
  {
   "cell_type": "code",
   "execution_count": 9,
   "id": "7de48726",
   "metadata": {
    "scrolled": true
   },
   "outputs": [
    {
     "data": {
      "text/plain": [
       "Ship Mode       0\n",
       "Segment         0\n",
       "Country         0\n",
       "City            0\n",
       "State           0\n",
       "Postal Code     0\n",
       "Region          0\n",
       "Category        0\n",
       "Sub-Category    0\n",
       "Sales           0\n",
       "Quantity        0\n",
       "Discount        0\n",
       "Profit          0\n",
       "dtype: int64"
      ]
     },
     "execution_count": 9,
     "metadata": {},
     "output_type": "execute_result"
    }
   ],
   "source": [
    "store.isna().sum()"
   ]
  },
  {
   "cell_type": "markdown",
   "id": "dd443198",
   "metadata": {},
   "source": [
    "### EDA"
   ]
  },
  {
   "cell_type": "code",
   "execution_count": 10,
   "id": "3cdce6c0",
   "metadata": {},
   "outputs": [
    {
     "data": {
      "text/plain": [
       "Ship Mode\n",
       "Standard Class    5968\n",
       "Second Class      1945\n",
       "First Class       1538\n",
       "Same Day           543\n",
       "Name: count, dtype: int64"
      ]
     },
     "execution_count": 10,
     "metadata": {},
     "output_type": "execute_result"
    }
   ],
   "source": [
    "store[\"Ship Mode\"].value_counts()"
   ]
  },
  {
   "cell_type": "code",
   "execution_count": 11,
   "id": "bac9637b",
   "metadata": {},
   "outputs": [
    {
     "data": {
      "text/plain": [
       "City\n",
       "New York City      915\n",
       "Los Angeles        747\n",
       "Philadelphia       537\n",
       "San Francisco      510\n",
       "Seattle            428\n",
       "                  ... \n",
       "Glenview             1\n",
       "Missouri City        1\n",
       "Rochester Hills      1\n",
       "Palatine             1\n",
       "Manhattan            1\n",
       "Name: count, Length: 531, dtype: int64"
      ]
     },
     "execution_count": 11,
     "metadata": {},
     "output_type": "execute_result"
    }
   ],
   "source": [
    "store[\"City\"].value_counts()"
   ]
  },
  {
   "cell_type": "code",
   "execution_count": 12,
   "id": "258ea811",
   "metadata": {},
   "outputs": [
    {
     "data": {
      "text/plain": [
       "State\n",
       "California              2001\n",
       "New York                1128\n",
       "Texas                    985\n",
       "Pennsylvania             587\n",
       "Washington               506\n",
       "Illinois                 492\n",
       "Ohio                     469\n",
       "Florida                  383\n",
       "Michigan                 255\n",
       "North Carolina           249\n",
       "Arizona                  224\n",
       "Virginia                 224\n",
       "Georgia                  184\n",
       "Tennessee                183\n",
       "Colorado                 182\n",
       "Indiana                  149\n",
       "Kentucky                 139\n",
       "Massachusetts            135\n",
       "New Jersey               130\n",
       "Oregon                   124\n",
       "Wisconsin                110\n",
       "Maryland                 105\n",
       "Delaware                  96\n",
       "Minnesota                 89\n",
       "Connecticut               82\n",
       "Oklahoma                  66\n",
       "Missouri                  66\n",
       "Alabama                   61\n",
       "Arkansas                  60\n",
       "Rhode Island              56\n",
       "Utah                      53\n",
       "Mississippi               53\n",
       "Louisiana                 42\n",
       "South Carolina            42\n",
       "Nevada                    39\n",
       "Nebraska                  38\n",
       "New Mexico                37\n",
       "Iowa                      30\n",
       "New Hampshire             27\n",
       "Kansas                    24\n",
       "Idaho                     21\n",
       "Montana                   15\n",
       "South Dakota              12\n",
       "Vermont                   11\n",
       "District of Columbia      10\n",
       "Maine                      8\n",
       "North Dakota               7\n",
       "West Virginia              4\n",
       "Wyoming                    1\n",
       "Name: count, dtype: int64"
      ]
     },
     "execution_count": 12,
     "metadata": {},
     "output_type": "execute_result"
    }
   ],
   "source": [
    "store[\"State\"].value_counts()"
   ]
  },
  {
   "cell_type": "code",
   "execution_count": 13,
   "id": "a5348b59",
   "metadata": {},
   "outputs": [
    {
     "data": {
      "text/plain": [
       "Region\n",
       "West       3203\n",
       "East       2848\n",
       "Central    2323\n",
       "South      1620\n",
       "Name: count, dtype: int64"
      ]
     },
     "execution_count": 13,
     "metadata": {},
     "output_type": "execute_result"
    }
   ],
   "source": [
    "store[\"Region\"].value_counts()"
   ]
  },
  {
   "cell_type": "code",
   "execution_count": 14,
   "id": "3f1b95fb",
   "metadata": {},
   "outputs": [
    {
     "data": {
      "text/plain": [
       "Category\n",
       "Office Supplies    6026\n",
       "Furniture          2121\n",
       "Technology         1847\n",
       "Name: count, dtype: int64"
      ]
     },
     "execution_count": 14,
     "metadata": {},
     "output_type": "execute_result"
    }
   ],
   "source": [
    "store[\"Category\"].value_counts()"
   ]
  },
  {
   "cell_type": "code",
   "execution_count": 15,
   "id": "f9ad93c2",
   "metadata": {},
   "outputs": [
    {
     "data": {
      "text/plain": [
       "Sub-Category\n",
       "Binders        1523\n",
       "Paper          1370\n",
       "Furnishings     957\n",
       "Phones          889\n",
       "Storage         846\n",
       "Art             796\n",
       "Accessories     775\n",
       "Chairs          617\n",
       "Appliances      466\n",
       "Labels          364\n",
       "Tables          319\n",
       "Envelopes       254\n",
       "Bookcases       228\n",
       "Fasteners       217\n",
       "Supplies        190\n",
       "Machines        115\n",
       "Copiers          68\n",
       "Name: count, dtype: int64"
      ]
     },
     "execution_count": 15,
     "metadata": {},
     "output_type": "execute_result"
    }
   ],
   "source": [
    "store[\"Sub-Category\"].value_counts()"
   ]
  },
  {
   "cell_type": "code",
   "execution_count": 16,
   "id": "8ecfba62",
   "metadata": {},
   "outputs": [
    {
     "data": {
      "text/plain": [
       "2297200.8603000003"
      ]
     },
     "execution_count": 16,
     "metadata": {},
     "output_type": "execute_result"
    }
   ],
   "source": [
    "store[\"Sales\"].sum()"
   ]
  },
  {
   "cell_type": "code",
   "execution_count": 17,
   "id": "87d58112",
   "metadata": {},
   "outputs": [
    {
     "data": {
      "text/plain": [
       "229.85800083049833"
      ]
     },
     "execution_count": 17,
     "metadata": {},
     "output_type": "execute_result"
    }
   ],
   "source": [
    "store[\"Sales\"].mean()"
   ]
  },
  {
   "cell_type": "code",
   "execution_count": 18,
   "id": "81af3566",
   "metadata": {},
   "outputs": [
    {
     "data": {
      "text/plain": [
       "286397.0217"
      ]
     },
     "execution_count": 18,
     "metadata": {},
     "output_type": "execute_result"
    }
   ],
   "source": [
    "store[\"Profit\"].sum()"
   ]
  },
  {
   "cell_type": "code",
   "execution_count": 19,
   "id": "6565b1f9",
   "metadata": {},
   "outputs": [
    {
     "data": {
      "text/plain": [
       "<Axes: xlabel='Category', ylabel='Count'>"
      ]
     },
     "execution_count": 19,
     "metadata": {},
     "output_type": "execute_result"
    },
    {
     "data": {
      "image/png": "[encoded data removed]",
      "text/plain": [
       "<Figure size 640x480 with 1 Axes>"
      ]
     },
     "metadata": {},
     "output_type": "display_data"
    }
   ],
   "source": [
    "sns.histplot(store.Category)"
   ]
  },
  {
   "cell_type": "markdown",
   "id": "2964cd8f",
   "metadata": {},
   "source": [
    "## Sales Analysis"
   ]
  },
  {
   "cell_type": "code",
   "execution_count": 27,
   "id": "c5639259",
   "metadata": {},
   "outputs": [
    {
     "data": {
      "text/plain": [
       "Text(0, 0.5, 'Sales')"
      ]
     },
     "execution_count": 27,
     "metadata": {},
     "output_type": "execute_result"
    },
    {
     "data": {
      "image/png": "[encoded data removed]",
      "text/plain": [
       "<Figure size 1000x400 with 1 Axes>"
      ]
     },
     "metadata": {},
     "output_type": "display_data"
    }
   ],
   "source": [
    "plt.figure(figsize=(10,4))  # (width, height)\n",
    "sales_by_Category.plot(kind =\"bar\", color = \"green\")\n",
    "plt.title(\"Sales by Category\")\n",
    "plt.xlabel(\"Category\")\n",
    "plt.ylabel(\"Sales\")"
   ]
  },
  {
   "cell_type": "code",
   "execution_count": 21,
   "id": "dbe8cc7e",
   "metadata": {},
   "outputs": [
    {
     "data": {
      "text/plain": [
       "Category\n",
       "Furniture          741999.7953\n",
       "Office Supplies    719047.0320\n",
       "Technology         836154.0330\n",
       "Name: Sales, dtype: float64"
      ]
     },
     "execution_count": 21,
     "metadata": {},
     "output_type": "execute_result"
    }
   ],
   "source": [
    "sales_by_Category = store.groupby('Category')['Sales'].sum()\n",
    "sales_by_Category"
   ]
  },
  {
   "cell_type": "code",
   "execution_count": 22,
   "id": "ffe073b5",
   "metadata": {},
   "outputs": [
    {
     "data": {
      "text/plain": [
       "Sub-Category\n",
       "Accessories    167380.3180\n",
       "Appliances     107532.1610\n",
       "Art             27118.7920\n",
       "Binders        203412.7330\n",
       "Bookcases      114879.9963\n",
       "Chairs         328449.1030\n",
       "Copiers        149528.0300\n",
       "Envelopes       16476.4020\n",
       "Fasteners        3024.2800\n",
       "Furnishings     91705.1640\n",
       "Labels          12486.3120\n",
       "Machines       189238.6310\n",
       "Paper           78479.2060\n",
       "Phones         330007.0540\n",
       "Storage        223843.6080\n",
       "Supplies        46673.5380\n",
       "Tables         206965.5320\n",
       "Name: Sales, dtype: float64"
      ]
     },
     "execution_count": 22,
     "metadata": {},
     "output_type": "execute_result"
    }
   ],
   "source": [
    "sales_by_subcat = store.groupby('Sub-Category')['Sales'].sum()\n",
    "sales_by_subcat"
   ]
  },
  {
   "cell_type": "code",
   "execution_count": 23,
   "id": "5252834d",
   "metadata": {},
   "outputs": [
    {
     "data": {
      "text/plain": [
       "Sub-Category\n",
       "Phones     330007.054\n",
       "Chairs     328449.103\n",
       "Storage    223843.608\n",
       "Tables     206965.532\n",
       "Binders    203412.733\n",
       "Name: Sales, dtype: float64"
      ]
     },
     "execution_count": 23,
     "metadata": {},
     "output_type": "execute_result"
    }
   ],
   "source": [
    "top10_subcat = store.groupby('Sub-Category')['Sales'].sum().nlargest(5)\n",
    "top10_subcat"
   ]
  },
  {
   "cell_type": "code",
   "execution_count": 24,
   "id": "c7917e82",
   "metadata": {},
   "outputs": [
    {
     "data": {
      "text/plain": [
       "Text(0, 0.5, 'Sales')"
      ]
     },
     "execution_count": 24,
     "metadata": {},
     "output_type": "execute_result"
    },
    {
     "data": {
      "image/png": "[encoded data removed]",
      "text/plain": [
       "<Figure size 1200x600 with 1 Axes>"
      ]
     },
     "metadata": {},
     "output_type": "display_data"
    }
   ],
   "source": [
    "plt.figure(figsize=(12,6))  # (width, height)\n",
    "top10_subcat.plot(kind =\"bar\", color = \"yellow\")\n",
    "plt.title(\"Sales by Sub-Category\")\n",
    "plt.xlabel(\"Sub-Category\")\n",
    "plt.ylabel(\"Sales\")"
   ]
  },
  {
   "cell_type": "code",
   "execution_count": 25,
   "id": "cee00489",
   "metadata": {},
   "outputs": [
    {
     "data": {
      "text/plain": [
       "Ship Mode\n",
       "First Class       3.514284e+05\n",
       "Same Day          1.283631e+05\n",
       "Second Class      4.591936e+05\n",
       "Standard Class    1.358216e+06\n",
       "Name: Sales, dtype: float64"
      ]
     },
     "execution_count": 25,
     "metadata": {},
     "output_type": "execute_result"
    }
   ],
   "source": [
    "sales_by_Shipmode =store.groupby('Ship Mode')['Sales'].sum()\n",
    "sales_by_Shipmode"
   ]
  },
  {
   "cell_type": "code",
   "execution_count": 26,
   "id": "531c1fbf",
   "metadata": {},
   "outputs": [
    {
     "data": {
      "text/plain": [
       "Text(0, 0.5, 'Sales')"
      ]
     },
     "execution_count": 26,
     "metadata": {},
     "output_type": "execute_result"
    },
    {
     "data": {
      "image/png": "[encoded data removed]",
      "text/plain": [
       "<Figure size 1000x400 with 1 Axes>"
      ]
     },
     "metadata": {},
     "output_type": "display_data"
    }
   ],
   "source": [
    "plt.figure(figsize=(10,4))  # (width, height)\n",
    "sales_by_Shipmode.plot(kind =\"bar\", color = \"purple\")\n",
    "plt.title(\"Sales by Ship Mode\")\n",
    "plt.xlabel(\"Ship Mode\")\n",
    "plt.ylabel(\"Sales\")"
   ]
  },
  {
   "cell_type": "code",
   "execution_count": 28,
   "id": "cd7595f8",
   "metadata": {},
   "outputs": [
    {
     "data": {
      "text/plain": [
       "Segment\n",
       "Consumer       1.161401e+06\n",
       "Corporate      7.061464e+05\n",
       "Home Office    4.296531e+05\n",
       "Name: Sales, dtype: float64"
      ]
     },
     "execution_count": 28,
     "metadata": {},
     "output_type": "execute_result"
    }
   ],
   "source": [
    "sales_by_segments =store.groupby('Segment')['Sales'].sum()\n",
    "sales_by_segments"
   ]
  },
  {
   "cell_type": "code",
   "execution_count": 29,
   "id": "c59b2801",
   "metadata": {},
   "outputs": [
    {
     "data": {
      "image/png": "[encoded data removed]",
      "text/plain": [
       "<Figure size 800x600 with 1 Axes>"
      ]
     },
     "metadata": {},
     "output_type": "display_data"
    }
   ],
   "source": [
    "sns.set_style('whitegrid')\n",
    "plt.figure(figsize=(8, 6))\n",
    "plt.pie(sales_by_segments, labels=sales_by_segments.index, autopct='%1.1f%%')\n",
    "plt.title('Sales by Segments')\n",
    "plt.show()\n"
   ]
  },
  {
   "cell_type": "code",
   "execution_count": 30,
   "id": "7979be7a",
   "metadata": {},
   "outputs": [
    {
     "data": {
      "text/plain": [
       "Region\n",
       "Central    501239.8908\n",
       "East       678781.2400\n",
       "South      391721.9050\n",
       "West       725457.8245\n",
       "Name: Sales, dtype: float64"
      ]
     },
     "execution_count": 30,
     "metadata": {},
     "output_type": "execute_result"
    }
   ],
   "source": [
    "sales_by_region = store.groupby('Region')['Sales'].sum()\n",
    "sales_by_region"
   ]
  },
  {
   "cell_type": "code",
   "execution_count": 31,
   "id": "6ebe35ac",
   "metadata": {},
   "outputs": [
    {
     "data": {
      "text/plain": [
       "Text(0, 0.5, 'Region')"
      ]
     },
     "execution_count": 31,
     "metadata": {},
     "output_type": "execute_result"
    },
    {
     "data": {
      "image/png": "[encoded data removed]",
      "text/plain": [
       "<Figure size 1000x400 with 1 Axes>"
      ]
     },
     "metadata": {},
     "output_type": "display_data"
    }
   ],
   "source": [
    "plt.figure(figsize=(10, 4))\n",
    "sns.barplot(x=sales_by_region.values, y=sales_by_region.index, palette='rocket')\n",
    "plt.title('Sales by Region')\n",
    "plt.xlabel('Sales')\n",
    "plt.ylabel('Region')"
   ]
  },
  {
   "cell_type": "code",
   "execution_count": 32,
   "id": "7420a783",
   "metadata": {},
   "outputs": [
    {
     "data": {
      "text/plain": [
       "State\n",
       "California      457687.6315\n",
       "New York        310876.2710\n",
       "Texas           170188.0458\n",
       "Washington      138641.2700\n",
       "Pennsylvania    116511.9140\n",
       "Name: Sales, dtype: float64"
      ]
     },
     "execution_count": 32,
     "metadata": {},
     "output_type": "execute_result"
    }
   ],
   "source": [
    "sales_by_state =store.groupby('State')['Sales'].sum().nlargest(5)\n",
    "sales_by_state"
   ]
  },
  {
   "cell_type": "code",
   "execution_count": 33,
   "id": "bed921bc",
   "metadata": {},
   "outputs": [
    {
     "data": {
      "text/plain": [
       "State\n",
       "Alabama                  19510.6400\n",
       "Arizona                  35282.0010\n",
       "Arkansas                 11678.1300\n",
       "California              457687.6315\n",
       "Colorado                 32108.1180\n",
       "Connecticut              13384.3570\n",
       "Delaware                 27451.0690\n",
       "District of Columbia      2865.0200\n",
       "Florida                  89473.7080\n",
       "Georgia                  49095.8400\n",
       "Idaho                     4382.4860\n",
       "Illinois                 80166.1010\n",
       "Indiana                  53555.3600\n",
       "Iowa                      4579.7600\n",
       "Kansas                    2914.3100\n",
       "Kentucky                 36591.7500\n",
       "Louisiana                 9217.0300\n",
       "Maine                     1270.5300\n",
       "Maryland                 23705.5230\n",
       "Massachusetts            28634.4340\n",
       "Michigan                 76269.6140\n",
       "Minnesota                29863.1500\n",
       "Mississippi              10771.3400\n",
       "Missouri                 22205.1500\n",
       "Montana                   5589.3520\n",
       "Nebraska                  7464.9300\n",
       "Nevada                   16729.1020\n",
       "New Hampshire             7292.5240\n",
       "New Jersey               35764.3120\n",
       "New Mexico                4783.5220\n",
       "New York                310876.2710\n",
       "North Carolina           55603.1640\n",
       "North Dakota               919.9100\n",
       "Ohio                     78258.1360\n",
       "Oklahoma                 19683.3900\n",
       "Oregon                   17431.1500\n",
       "Pennsylvania            116511.9140\n",
       "Rhode Island             22627.9560\n",
       "South Carolina            8481.7100\n",
       "South Dakota              1315.5600\n",
       "Tennessee                30661.8730\n",
       "Texas                   170188.0458\n",
       "Utah                     11220.0560\n",
       "Vermont                   8929.3700\n",
       "Virginia                 70636.7200\n",
       "Washington              138641.2700\n",
       "West Virginia             1209.8240\n",
       "Wisconsin                32114.6100\n",
       "Wyoming                   1603.1360\n",
       "Name: Sales, dtype: float64"
      ]
     },
     "execution_count": 33,
     "metadata": {},
     "output_type": "execute_result"
    }
   ],
   "source": [
    "sales_by_states =store.groupby('State')['Sales'].sum()\n",
    "sales_by_states"
   ]
  },
  {
   "cell_type": "code",
   "execution_count": 17,
   "id": "cd995986",
   "metadata": {},
   "outputs": [
    {
     "data": {
      "text/html": [
       "        <script type=\"text/javascript\">\n",
       "        window.PlotlyConfig = {MathJaxConfig: 'local'};\n",
       "        if (window.MathJax && window.MathJax.Hub && window.MathJax.Hub.Config) {window.MathJax.Hub.Config({SVG: {font: \"STIX-Web\"}});}\n",
       "        if (typeof require !== 'undefined') {\n",
       "        require.undef(\"plotly\");\n",
       "        requirejs.config({\n",
       "            paths: {\n",
       "                'plotly': ['https://cdn.plot.ly/plotly-2.12.1.min']\n",
       "            }\n",
       "        });\n",
       "        require(['plotly'], function(Plotly) {\n",
       "            window._Plotly = Plotly;\n",
       "        });\n",
       "        }\n",
       "        </script>\n",
       "        "
      ]
     },
     "metadata": {},
     "output_type": "display_data"
    },
    {
     "data": {
      "text/html": [
       "<div>                            <div id=\"5ae6e647-f73f-4a5c-a007-8111823ba597\" class=\"plotly-graph-div\" style=\"height:525px; width:100%;\"></div>            <script type=\"text/javascript\">                require([\"plotly\"], function(Plotly) {                    window.PLOTLYENV=window.PLOTLYENV || {};                                    if (document.getElementById(\"5ae6e647-f73f-4a5c-a007-8111823ba597\")) {                    Plotly.newPlot(                        \"5ae6e647-f73f-4a5c-a007-8111823ba597\",                        [{\"hoverinfo\":\"location+z\",\"locationmode\":\"USA-states\",\"locations\":[\"AL\",\"AZ\",\"AR\",\"CA\",\"CO\",\"CT\",\"DE\",null,\"FL\",\"GA\",\"ID\",\"IL\",\"IN\",\"IA\",\"KS\",\"KY\",\"LA\",\"ME\",\"MD\",\"MA\",\"MI\",\"MN\",\"MS\",\"MO\",\"MT\",\"NE\",\"NV\",\"NH\",\"NJ\",\"NM\",\"NY\",\"NC\",\"ND\",\"OH\",\"OK\",\"OR\",\"PA\",\"RI\",\"SC\",\"SD\",\"TN\",\"TX\",\"UT\",\"VT\",\"VA\",\"WA\",\"WV\",\"WI\",\"WY\"],\"showscale\":true,\"z\":[19510.64,35282.001,11678.13,457687.6315,32108.118,13384.357,27451.069,2865.02,89473.708,49095.84,4382.486,80166.101,53555.36,4579.76,2914.31,36591.75,9217.03,1270.53,23705.523,28634.434,76269.614,29863.15,10771.34,22205.15,5589.352,7464.93,16729.102,7292.524,35764.312,4783.522,310876.271,55603.164,919.91,78258.136,19683.39,17431.15,116511.914,22627.956,8481.71,1315.56,30661.873,170188.0458,11220.056,8929.369999999999,70636.72,138641.27,1209.824,32114.61,1603.136],\"type\":\"choropleth\"}],                        {\"template\":{\"data\":{\"histogram2dcontour\":[{\"type\":\"histogram2dcontour\",\"colorbar\":{\"outlinewidth\":0,\"ticks\":\"\"},\"colorscale\":[[0.0,\"#0d0887\"],[0.1111111111111111,\"#46039f\"],[0.2222222222222222,\"#7201a8\"],[0.3333333333333333,\"#9c179e\"],[0.4444444444444444,\"#bd3786\"],[0.5555555555555556,\"#d8576b\"],[0.6666666666666666,\"#ed7953\"],[0.7777777777777778,\"#fb9f3a\"],[0.8888888888888888,\"#fdca26\"],[1.0,\"#f0f921\"]]}],\"choropleth\":[{\"type\":\"choropleth\",\"colorbar\":{\"outlinewidth\":0,\"ticks\":\"\"}}],\"histogram2d\":[{\"type\":\"histogram2d\",\"colorbar\":{\"outlinewidth\":0,\"ticks\":\"\"},\"colorscale\":[[0.0,\"#0d0887\"],[0.1111111111111111,\"#46039f\"],[0.2222222222222222,\"#7201a8\"],[0.3333333333333333,\"#9c179e\"],[0.4444444444444444,\"#bd3786\"],[0.5555555555555556,\"#d8576b\"],[0.6666666666666666,\"#ed7953\"],[0.7777777777777778,\"#fb9f3a\"],[0.8888888888888888,\"#fdca26\"],[1.0,\"#f0f921\"]]}],\"heatmap\":[{\"type\":\"heatmap\",\"colorbar\":{\"outlinewidth\":0,\"ticks\":\"\"},\"colorscale\":[[0.0,\"#0d0887\"],[0.1111111111111111,\"#46039f\"],[0.2222222222222222,\"#7201a8\"],[0.3333333333333333,\"#9c179e\"],[0.4444444444444444,\"#bd3786\"],[0.5555555555555556,\"#d8576b\"],[0.6666666666666666,\"#ed7953\"],[0.7777777777777778,\"#fb9f3a\"],[0.8888888888888888,\"#fdca26\"],[1.0,\"#f0f921\"]]}],\"heatmapgl\":[{\"type\":\"heatmapgl\",\"colorbar\":{\"outlinewidth\":0,\"ticks\":\"\"},\"colorscale\":[[0.0,\"#0d0887\"],[0.1111111111111111,\"#46039f\"],[0.2222222222222222,\"#7201a8\"],[0.3333333333333333,\"#9c179e\"],[0.4444444444444444,\"#bd3786\"],[0.5555555555555556,\"#d8576b\"],[0.6666666666666666,\"#ed7953\"],[0.7777777777777778,\"#fb9f3a\"],[0.8888888888888888,\"#fdca26\"],[1.0,\"#f0f921\"]]}],\"contourcarpet\":[{\"type\":\"contourcarpet\",\"colorbar\":{\"outlinewidth\":0,\"ticks\":\"\"}}],\"contour\":[{\"type\":\"contour\",\"colorbar\":{\"outlinewidth\":0,\"ticks\":\"\"},\"colorscale\":[[0.0,\"#0d0887\"],[0.1111111111111111,\"#46039f\"],[0.2222222222222222,\"#7201a8\"],[0.3333333333333333,\"#9c179e\"],[0.4444444444444444,\"#bd3786\"],[0.5555555555555556,\"#d8576b\"],[0.6666666666666666,\"#ed7953\"],[0.7777777777777778,\"#fb9f3a\"],[0.8888888888888888,\"#fdca26\"],[1.0,\"#f0f921\"]]}],\"surface\":[{\"type\":\"surface\",\"colorbar\":{\"outlinewidth\":0,\"ticks\":\"\"},\"colorscale\":[[0.0,\"#0d0887\"],[0.1111111111111111,\"#46039f\"],[0.2222222222222222,\"#7201a8\"],[0.3333333333333333,\"#9c179e\"],[0.4444444444444444,\"#bd3786\"],[0.5555555555555556,\"#d8576b\"],[0.6666666666666666,\"#ed7953\"],[0.7777777777777778,\"#fb9f3a\"],[0.8888888888888888,\"#fdca26\"],[1.0,\"#f0f921\"]]}],\"mesh3d\":[{\"type\":\"mesh3d\",\"colorbar\":{\"outlinewidth\":0,\"ticks\":\"\"}}],\"scatter\":[{\"fillpattern\":{\"fillmode\":\"overlay\",\"size\":10,\"solidity\":0.2},\"type\":\"scatter\"}],\"parcoords\":[{\"type\":\"parcoords\",\"line\":{\"colorbar\":{\"outlinewidth\":0,\"ticks\":\"\"}}}],\"scatterpolargl\":[{\"type\":\"scatterpolargl\",\"marker\":{\"colorbar\":{\"outlinewidth\":0,\"ticks\":\"\"}}}],\"bar\":[{\"error_x\":{\"color\":\"#2a3f5f\"},\"error_y\":{\"color\":\"#2a3f5f\"},\"marker\":{\"line\":{\"color\":\"#E5ECF6\",\"width\":0.5},\"pattern\":{\"fillmode\":\"overlay\",\"size\":10,\"solidity\":0.2}},\"type\":\"bar\"}],\"scattergeo\":[{\"type\":\"scattergeo\",\"marker\":{\"colorbar\":{\"outlinewidth\":0,\"ticks\":\"\"}}}],\"scatterpolar\":[{\"type\":\"scatterpolar\",\"marker\":{\"colorbar\":{\"outlinewidth\":0,\"ticks\":\"\"}}}],\"histogram\":[{\"marker\":{\"pattern\":{\"fillmode\":\"overlay\",\"size\":10,\"solidity\":0.2}},\"type\":\"histogram\"}],\"scattergl\":[{\"type\":\"scattergl\",\"marker\":{\"colorbar\":{\"outlinewidth\":0,\"ticks\":\"\"}}}],\"scatter3d\":[{\"type\":\"scatter3d\",\"line\":{\"colorbar\":{\"outlinewidth\":0,\"ticks\":\"\"}},\"marker\":{\"colorbar\":{\"outlinewidth\":0,\"ticks\":\"\"}}}],\"scattermapbox\":[{\"type\":\"scattermapbox\",\"marker\":{\"colorbar\":{\"outlinewidth\":0,\"ticks\":\"\"}}}],\"scatterternary\":[{\"type\":\"scatterternary\",\"marker\":{\"colorbar\":{\"outlinewidth\":0,\"ticks\":\"\"}}}],\"scattercarpet\":[{\"type\":\"scattercarpet\",\"marker\":{\"colorbar\":{\"outlinewidth\":0,\"ticks\":\"\"}}}],\"carpet\":[{\"aaxis\":{\"endlinecolor\":\"#2a3f5f\",\"gridcolor\":\"white\",\"linecolor\":\"white\",\"minorgridcolor\":\"white\",\"startlinecolor\":\"#2a3f5f\"},\"baxis\":{\"endlinecolor\":\"#2a3f5f\",\"gridcolor\":\"white\",\"linecolor\":\"white\",\"minorgridcolor\":\"white\",\"startlinecolor\":\"#2a3f5f\"},\"type\":\"carpet\"}],\"table\":[{\"cells\":{\"fill\":{\"color\":\"#EBF0F8\"},\"line\":{\"color\":\"white\"}},\"header\":{\"fill\":{\"color\":\"#C8D4E3\"},\"line\":{\"color\":\"white\"}},\"type\":\"table\"}],\"barpolar\":[{\"marker\":{\"line\":{\"color\":\"#E5ECF6\",\"width\":0.5},\"pattern\":{\"fillmode\":\"overlay\",\"size\":10,\"solidity\":0.2}},\"type\":\"barpolar\"}],\"pie\":[{\"automargin\":true,\"type\":\"pie\"}]},\"layout\":{\"autotypenumbers\":\"strict\",\"colorway\":[\"#636efa\",\"#EF553B\",\"#00cc96\",\"#ab63fa\",\"#FFA15A\",\"#19d3f3\",\"#FF6692\",\"#B6E880\",\"#FF97FF\",\"#FECB52\"],\"font\":{\"color\":\"#2a3f5f\"},\"hovermode\":\"closest\",\"hoverlabel\":{\"align\":\"left\"},\"paper_bgcolor\":\"white\",\"plot_bgcolor\":\"#E5ECF6\",\"polar\":{\"bgcolor\":\"#E5ECF6\",\"angularaxis\":{\"gridcolor\":\"white\",\"linecolor\":\"white\",\"ticks\":\"\"},\"radialaxis\":{\"gridcolor\":\"white\",\"linecolor\":\"white\",\"ticks\":\"\"}},\"ternary\":{\"bgcolor\":\"#E5ECF6\",\"aaxis\":{\"gridcolor\":\"white\",\"linecolor\":\"white\",\"ticks\":\"\"},\"baxis\":{\"gridcolor\":\"white\",\"linecolor\":\"white\",\"ticks\":\"\"},\"caxis\":{\"gridcolor\":\"white\",\"linecolor\":\"white\",\"ticks\":\"\"}},\"coloraxis\":{\"colorbar\":{\"outlinewidth\":0,\"ticks\":\"\"}},\"colorscale\":{\"sequential\":[[0.0,\"#0d0887\"],[0.1111111111111111,\"#46039f\"],[0.2222222222222222,\"#7201a8\"],[0.3333333333333333,\"#9c179e\"],[0.4444444444444444,\"#bd3786\"],[0.5555555555555556,\"#d8576b\"],[0.6666666666666666,\"#ed7953\"],[0.7777777777777778,\"#fb9f3a\"],[0.8888888888888888,\"#fdca26\"],[1.0,\"#f0f921\"]],\"sequentialminus\":[[0.0,\"#0d0887\"],[0.1111111111111111,\"#46039f\"],[0.2222222222222222,\"#7201a8\"],[0.3333333333333333,\"#9c179e\"],[0.4444444444444444,\"#bd3786\"],[0.5555555555555556,\"#d8576b\"],[0.6666666666666666,\"#ed7953\"],[0.7777777777777778,\"#fb9f3a\"],[0.8888888888888888,\"#fdca26\"],[1.0,\"#f0f921\"]],\"diverging\":[[0,\"#8e0152\"],[0.1,\"#c51b7d\"],[0.2,\"#de77ae\"],[0.3,\"#f1b6da\"],[0.4,\"#fde0ef\"],[0.5,\"#f7f7f7\"],[0.6,\"#e6f5d0\"],[0.7,\"#b8e186\"],[0.8,\"#7fbc41\"],[0.9,\"#4d9221\"],[1,\"#276419\"]]},\"xaxis\":{\"gridcolor\":\"white\",\"linecolor\":\"white\",\"ticks\":\"\",\"title\":{\"standoff\":15},\"zerolinecolor\":\"white\",\"automargin\":true,\"zerolinewidth\":2},\"yaxis\":{\"gridcolor\":\"white\",\"linecolor\":\"white\",\"ticks\":\"\",\"title\":{\"standoff\":15},\"zerolinecolor\":\"white\",\"automargin\":true,\"zerolinewidth\":2},\"scene\":{\"xaxis\":{\"backgroundcolor\":\"#E5ECF6\",\"gridcolor\":\"white\",\"linecolor\":\"white\",\"showbackground\":true,\"ticks\":\"\",\"zerolinecolor\":\"white\",\"gridwidth\":2},\"yaxis\":{\"backgroundcolor\":\"#E5ECF6\",\"gridcolor\":\"white\",\"linecolor\":\"white\",\"showbackground\":true,\"ticks\":\"\",\"zerolinecolor\":\"white\",\"gridwidth\":2},\"zaxis\":{\"backgroundcolor\":\"#E5ECF6\",\"gridcolor\":\"white\",\"linecolor\":\"white\",\"showbackground\":true,\"ticks\":\"\",\"zerolinecolor\":\"white\",\"gridwidth\":2}},\"shapedefaults\":{\"line\":{\"color\":\"#2a3f5f\"}},\"annotationdefaults\":{\"arrowcolor\":\"#2a3f5f\",\"arrowhead\":0,\"arrowwidth\":1},\"geo\":{\"bgcolor\":\"white\",\"landcolor\":\"#E5ECF6\",\"subunitcolor\":\"white\",\"showland\":true,\"showlakes\":true,\"lakecolor\":\"white\"},\"title\":{\"x\":0.05},\"mapbox\":{\"style\":\"light\"}}},\"geo\":{\"projection\":{\"type\":\"albers usa\"},\"scope\":\"usa\"},\"title\":{\"text\":\"Total Sales by U.S. State\"}},                        {\"responsive\": true}                    ).then(function(){\n",
       "                            \n",
       "var gd = document.getElementById('5ae6e647-f73f-4a5c-a007-8111823ba597');\n",
       "var x = new MutationObserver(function (mutations, observer) {{\n",
       "        var display = window.getComputedStyle(gd).display;\n",
       "        if (!display || display === 'none') {{\n",
       "            console.log([gd, 'removed!']);\n",
       "            Plotly.purge(gd);\n",
       "            observer.disconnect();\n",
       "        }}\n",
       "}});\n",
       "\n",
       "// Listen for the removal of the full notebook cells\n",
       "var notebookContainer = gd.closest('#notebook-container');\n",
       "if (notebookContainer) {{\n",
       "    x.observe(notebookContainer, {childList: true});\n",
       "}}\n",
       "\n",
       "// Listen for the clearing of the current output cell\n",
       "var outputEl = gd.closest('.output');\n",
       "if (outputEl) {{\n",
       "    x.observe(outputEl, {childList: true});\n",
       "}}\n",
       "\n",
       "                        })                };                });            </script>        </div>"
      ]
     },
     "metadata": {},
     "output_type": "display_data"
    }
   ],
   "source": [
    "import plotly.graph_objects as go\n",
    "import plotly.io as pio\n",
    "pio.renderers.default = 'notebook_connected'\n",
    "\n",
    "\n",
    "# Create a mapping for all 50 states \n",
    "all_state_mapping = {\"Alabama\": \"AL\", \"Alaska\": \"AK\", \"Arizona\": \"AZ\", \"Arkansas\": \"AR\",\n",
    "    \"California\": \"CA\", \"Colorado\": \"CO\", \"Connecticut\": \"CT\", \"Delaware\": \"DE\",\n",
    "    \"Florida\": \"FL\", \"Georgia\": \"GA\", \"Hawaii\": \"HI\", \"Idaho\": \"ID\", \"Illinois\": \"IL\",\n",
    "    \"Indiana\": \"IN\", \"Iowa\": \"IA\", \"Kansas\": \"KS\", \"Kentucky\": \"KY\", \"Louisiana\": \"LA\",\n",
    "    \"Maine\": \"ME\", \"Maryland\": \"MD\", \"Massachusetts\": \"MA\", \"Michigan\": \"MI\", \"Minnesota\": \"MN\",\n",
    "    \"Mississippi\": \"MS\", \"Missouri\": \"MO\", \"Montana\": \"MT\", \"Nebraska\": \"NE\", \"Nevada\": \"NV\",\n",
    "    \"New Hampshire\": \"NH\", \"New Jersey\": \"NJ\", \"New Mexico\": \"NM\", \"New York\": \"NY\",\n",
    "    \"North Carolina\": \"NC\", \"North Dakota\": \"ND\", \"Ohio\": \"OH\", \"Oklahoma\": \"OK\",\n",
    "    \"Oregon\": \"OR\", \"Pennsylvania\": \"PA\", \"Rhode Island\": \"RI\", \"South Carolina\": \"SC\",\n",
    "    \"South Dakota\": \"SD\", \"Tennessee\": \"TN\", \"Texas\": \"TX\", \"Utah\": \"UT\", \"Vermont\": \"VT\",\n",
    "    \"Virginia\": \"VA\", \"Washington\": \"WA\", \"West Virginia\": \"WV\", \"Wisconsin\": \"WI\", \"Wyoming\": \"WY\"}\n",
    "\n",
    "store['Abbreviation'] = store['State'].map(all_state_mapping)\n",
    "\n",
    "# Group by state and calculate the sum of sales\n",
    "sales_by_states = store.groupby('State')['Sales'].sum().reset_index()\n",
    "\n",
    "# Add Abbreviation to sum_of_sales\n",
    "sales_by_states['Abbreviation'] = sales_by_states['State'].map(all_state_mapping)\n",
    "fig = go.Figure(data=go.Choropleth(\n",
    "    locations=sales_by_states['Abbreviation'],\n",
    "    locationmode='USA-states',\n",
    "    z=sales_by_states['Sales'],\n",
    "    hoverinfo='location+z',\n",
    "     showscale=True\n",
    "))\n",
    "\n",
    "fig.update_geos(projection_type=\"albers usa\")\n",
    "fig.update_layout(\n",
    "    geo_scope='usa',\n",
    "    title='Total Sales by U.S. State'\n",
    ")\n",
    "\n",
    "fig.show()\n",
    "\n"
   ]
  },
  {
   "cell_type": "markdown",
   "id": "fc06defe",
   "metadata": {},
   "source": [
    "## Profit Analysis"
   ]
  },
  {
   "cell_type": "code",
   "execution_count": 18,
   "id": "19742dab",
   "metadata": {},
   "outputs": [
    {
     "data": {
      "text/plain": [
       "Category\n",
       "Furniture           18451.2728\n",
       "Office Supplies    122490.8008\n",
       "Technology         145454.9481\n",
       "Name: Profit, dtype: float64"
      ]
     },
     "execution_count": 18,
     "metadata": {},
     "output_type": "execute_result"
    }
   ],
   "source": [
    "profit_by_Category = store.groupby('Category')['Profit'].sum()\n",
    "profit_by_Category"
   ]
  },
  {
   "cell_type": "code",
   "execution_count": 19,
   "id": "03ab4b5c",
   "metadata": {},
   "outputs": [
    {
     "data": {
      "text/plain": [
       "Text(0, 0.5, 'Profit')"
      ]
     },
     "execution_count": 19,
     "metadata": {},
     "output_type": "execute_result"
    },
    {
     "data": {
      "image/png": "[encoded data removed]",
      "text/plain": [
       "<Figure size 1000x400 with 1 Axes>"
      ]
     },
     "metadata": {},
     "output_type": "display_data"
    }
   ],
   "source": [
    "plt.figure(figsize=(10,4))  # (width, height)\n",
    "profit_by_Category.plot(kind =\"bar\", color = \"pink\")\n",
    "plt.title(\"Profit by Category\")\n",
    "plt.xlabel(\"Category\")\n",
    "plt.ylabel(\"Profit\")"
   ]
  },
  {
   "cell_type": "code",
   "execution_count": 20,
   "id": "c8be56d5",
   "metadata": {},
   "outputs": [
    {
     "data": {
      "text/plain": [
       "Segment\n",
       "Consumer       134119.2092\n",
       "Corporate       91979.1340\n",
       "Home Office     60298.6785\n",
       "Name: Profit, dtype: float64"
      ]
     },
     "execution_count": 20,
     "metadata": {},
     "output_type": "execute_result"
    }
   ],
   "source": [
    "profit_by_segments =store.groupby('Segment')['Profit'].sum()\n",
    "profit_by_segments"
   ]
  },
  {
   "cell_type": "code",
   "execution_count": 21,
   "id": "3d694997",
   "metadata": {},
   "outputs": [
    {
     "data": {
      "image/png": "[encoded data removed]",
      "text/plain": [
       "<Figure size 800x600 with 1 Axes>"
      ]
     },
     "metadata": {},
     "output_type": "display_data"
    }
   ],
   "source": [
    "sns.set_style('whitegrid')\n",
    "plt.figure(figsize=(8, 6))\n",
    "plt.pie(profit_by_segments, labels=profit_by_segments.index, autopct='%1.1f%%')\n",
    "plt.title('Proft by Segments')\n",
    "plt.show()"
   ]
  },
  {
   "cell_type": "code",
   "execution_count": 22,
   "id": "c864cadd",
   "metadata": {},
   "outputs": [
    {
     "data": {
      "text/plain": [
       "Region\n",
       "Central     39706.3625\n",
       "East        91522.7800\n",
       "South       46749.4303\n",
       "West       108418.4489\n",
       "Name: Profit, dtype: float64"
      ]
     },
     "execution_count": 22,
     "metadata": {},
     "output_type": "execute_result"
    }
   ],
   "source": [
    "profit_by_region = store.groupby('Region')['Profit'].sum()\n",
    "profit_by_region"
   ]
  },
  {
   "cell_type": "code",
   "execution_count": 25,
   "id": "437416fc",
   "metadata": {},
   "outputs": [
    {
     "data": {
      "text/plain": [
       "Text(0, 0.5, 'Region')"
      ]
     },
     "execution_count": 25,
     "metadata": {},
     "output_type": "execute_result"
    },
    {
     "data": {
      "image/png": "[encoded data removed]",
      "text/plain": [
       "<Figure size 1000x400 with 1 Axes>"
      ]
     },
     "metadata": {},
     "output_type": "display_data"
    }
   ],
   "source": [
    "plt.figure(figsize=(10, 4))\n",
    "sns.barplot(x=profit_by_region.values, y=profit_by_region.index, palette='Set2')\n",
    "plt.title('Profit by Region')\n",
    "plt.xlabel('Profit')\n",
    "plt.ylabel('Region')"
   ]
  },
  {
   "cell_type": "code",
   "execution_count": 26,
   "id": "58230103",
   "metadata": {},
   "outputs": [
    {
     "data": {
      "text/plain": [
       "State\n",
       "Alabama                  5786.8253\n",
       "Arizona                 -3427.9246\n",
       "Arkansas                 4008.6871\n",
       "California              76381.3871\n",
       "Colorado                -6527.8579\n",
       "Connecticut              3511.4918\n",
       "Delaware                 9977.3748\n",
       "District of Columbia     1059.5893\n",
       "Florida                 -3399.3017\n",
       "Georgia                 16250.0433\n",
       "Idaho                     826.7231\n",
       "Illinois               -12607.8870\n",
       "Indiana                 18382.9363\n",
       "Iowa                     1183.8119\n",
       "Kansas                    836.4435\n",
       "Kentucky                11199.6966\n",
       "Louisiana                2196.1023\n",
       "Maine                     454.4862\n",
       "Maryland                 7031.1788\n",
       "Massachusetts            6785.5016\n",
       "Michigan                24463.1876\n",
       "Minnesota               10823.1874\n",
       "Mississippi              3172.9762\n",
       "Missouri                 6436.2105\n",
       "Montana                  1833.3285\n",
       "Nebraska                 2037.0942\n",
       "Nevada                   3316.7659\n",
       "New Hampshire            1706.5028\n",
       "New Jersey               9772.9138\n",
       "New Mexico               1157.1161\n",
       "New York                74038.5486\n",
       "North Carolina          -7490.9122\n",
       "North Dakota              230.1497\n",
       "Ohio                   -16971.3766\n",
       "Oklahoma                 4853.9560\n",
       "Oregon                  -1190.4705\n",
       "Pennsylvania           -15559.9603\n",
       "Rhode Island             7285.6293\n",
       "South Carolina           1769.0566\n",
       "South Dakota              394.8283\n",
       "Tennessee               -5341.6936\n",
       "Texas                  -25729.3563\n",
       "Utah                     2546.5335\n",
       "Vermont                  2244.9783\n",
       "Virginia                18597.9504\n",
       "Washington              33402.6517\n",
       "West Virginia             185.9216\n",
       "Wisconsin                8401.8004\n",
       "Wyoming                   100.1960\n",
       "Name: Profit, dtype: float64"
      ]
     },
     "execution_count": 26,
     "metadata": {},
     "output_type": "execute_result"
    }
   ],
   "source": [
    "profit_by_states =store.groupby('State')['Profit'].sum()\n",
    "profit_by_states"
   ]
  },
  {
   "cell_type": "code",
   "execution_count": 27,
   "id": "4ec9e9ff",
   "metadata": {},
   "outputs": [
    {
     "data": {
      "text/plain": [
       "State\n",
       "California    76381.3871\n",
       "New York      74038.5486\n",
       "Washington    33402.6517\n",
       "Michigan      24463.1876\n",
       "Virginia      18597.9504\n",
       "Name: Profit, dtype: float64"
      ]
     },
     "execution_count": 27,
     "metadata": {},
     "output_type": "execute_result"
    }
   ],
   "source": [
    "top5_profit_by_states =store.groupby('State')['Profit'].sum().nlargest(5)\n",
    "top5_profit_by_states"
   ]
  },
  {
   "cell_type": "code",
   "execution_count": 31,
   "id": "9e2bc26b",
   "metadata": {},
   "outputs": [
    {
     "data": {
      "text/plain": [
       "Text(0, 0.5, 'State')"
      ]
     },
     "execution_count": 31,
     "metadata": {},
     "output_type": "execute_result"
    },
    {
     "data": {
      "image/png": "[encoded data removed]",
      "text/plain": [
       "<Figure size 1000x400 with 1 Axes>"
      ]
     },
     "metadata": {},
     "output_type": "display_data"
    }
   ],
   "source": [
    "plt.figure(figsize=(10, 4))\n",
    "sns.barplot(x=top5_profit_by_states.values, y=top5_profit_by_states.index, palette='pastel')\n",
    "plt.title('Profit Of Top5 States')\n",
    "plt.xlabel('Profit')\n",
    "plt.ylabel('State')"
   ]
  },
  {
   "cell_type": "markdown",
   "id": "db1478a4",
   "metadata": {},
   "source": [
    "## Discount Analysis"
   ]
  },
  {
   "cell_type": "code",
   "execution_count": 32,
   "id": "b779c4ce",
   "metadata": {},
   "outputs": [
    {
     "data": {
      "text/plain": [
       "Category\n",
       "Furniture          368.89\n",
       "Office Supplies    947.80\n",
       "Technology         244.40\n",
       "Name: Discount, dtype: float64"
      ]
     },
     "execution_count": 32,
     "metadata": {},
     "output_type": "execute_result"
    }
   ],
   "source": [
    "discount_by_Category = store.groupby('Category')['Discount'].sum()\n",
    "discount_by_Category"
   ]
  },
  {
   "cell_type": "code",
   "execution_count": 33,
   "id": "c4b3c238",
   "metadata": {},
   "outputs": [
    {
     "data": {
      "text/plain": [
       "Region\n",
       "Central    558.34\n",
       "East       414.00\n",
       "South      238.55\n",
       "West       350.20\n",
       "Name: Discount, dtype: float64"
      ]
     },
     "execution_count": 33,
     "metadata": {},
     "output_type": "execute_result"
    }
   ],
   "source": [
    "discount_by_region = store.groupby('Region')['Discount'].sum()\n",
    "discount_by_region"
   ]
  },
  {
   "cell_type": "code",
   "execution_count": 34,
   "id": "3787620b",
   "metadata": {},
   "outputs": [
    {
     "data": {
      "text/plain": [
       "State\n",
       "Alabama                   0.00\n",
       "Arizona                  68.00\n",
       "Arkansas                  0.00\n",
       "California              145.60\n",
       "Colorado                 57.60\n",
       "Connecticut               0.60\n",
       "Delaware                  0.60\n",
       "District of Columbia      0.00\n",
       "Florida                 114.65\n",
       "Georgia                   0.00\n",
       "Idaho                     1.80\n",
       "Illinois                191.90\n",
       "Indiana                   0.00\n",
       "Iowa                      0.00\n",
       "Kansas                    0.00\n",
       "Kentucky                  0.00\n",
       "Louisiana                 0.00\n",
       "Maine                     0.00\n",
       "Maryland                  0.60\n",
       "Massachusetts             2.10\n",
       "Michigan                  1.80\n",
       "Minnesota                 0.00\n",
       "Mississippi               0.00\n",
       "Missouri                  0.00\n",
       "Montana                   1.00\n",
       "Nebraska                  0.00\n",
       "Nevada                    2.40\n",
       "New Hampshire             0.30\n",
       "New Jersey                0.60\n",
       "New Mexico                2.20\n",
       "New York                 62.40\n",
       "North Carolina           70.60\n",
       "North Dakota              0.00\n",
       "Ohio                    152.40\n",
       "Oklahoma                  0.00\n",
       "Oregon                   35.80\n",
       "Pennsylvania            192.90\n",
       "Rhode Island              1.20\n",
       "South Carolina            0.00\n",
       "South Dakota              0.00\n",
       "Tennessee                53.30\n",
       "Texas                   364.64\n",
       "Utah                      3.20\n",
       "Vermont                   0.00\n",
       "Virginia                  0.00\n",
       "Washington               32.40\n",
       "West Virginia             0.30\n",
       "Wisconsin                 0.00\n",
       "Wyoming                   0.20\n",
       "Name: Discount, dtype: float64"
      ]
     },
     "execution_count": 34,
     "metadata": {},
     "output_type": "execute_result"
    }
   ],
   "source": [
    "discount_by_states =store.groupby('State')['Discount'].sum()\n",
    "discount_by_states"
   ]
  },
  {
   "cell_type": "code",
   "execution_count": 35,
   "id": "d95dae38",
   "metadata": {},
   "outputs": [
    {
     "data": {
      "text/plain": [
       "State\n",
       "Texas             364.64\n",
       "Pennsylvania      192.90\n",
       "Illinois          191.90\n",
       "Ohio              152.40\n",
       "California        145.60\n",
       "Florida           114.65\n",
       "North Carolina     70.60\n",
       "Arizona            68.00\n",
       "New York           62.40\n",
       "Colorado           57.60\n",
       "Name: Discount, dtype: float64"
      ]
     },
     "execution_count": 35,
     "metadata": {},
     "output_type": "execute_result"
    }
   ],
   "source": [
    "top10_discount_by_states =store.groupby('State')['Discount'].sum().nlargest(10)\n",
    "top10_discount_by_states"
   ]
  },
  {
   "cell_type": "code",
   "execution_count": null,
   "id": "00ff592d",
   "metadata": {},
   "outputs": [],
   "source": []
  }
 ],
 "metadata": {
  "kernelspec": {
   "display_name": "Python 3 (ipykernel)",
   "language": "python",
   "name": "python3"
  },
  "language_info": {
   "codemirror_mode": {
    "name": "ipython",
    "version": 3
   },
   "file_extension": ".py",
   "mimetype": "text/x-python",
   "name": "python",
   "nbconvert_exporter": "python",
   "pygments_lexer": "ipython3",
   "version": "3.11.5"
  }
 },
 "nbformat": 4,
 "nbformat_minor": 5
}
